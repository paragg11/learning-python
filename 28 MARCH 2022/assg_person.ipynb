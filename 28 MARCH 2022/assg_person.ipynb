{
 "cells": [
  {
   "cell_type": "code",
   "execution_count": 4,
   "id": "a50bdd3f",
   "metadata": {},
   "outputs": [
    {
     "name": "stdout",
     "output_type": "stream",
     "text": [
      "sorted\n"
     ]
    }
   ],
   "source": [
    "from datetime import date\n",
    "\n",
    "class Person:\n",
    "    \n",
    "    def __init__(self,firstname,dob,surname):\n",
    "        self.name = firstname\n",
    "        self.dob = dob\n",
    "        self.surname = surname\n",
    "        \n",
    "    def age(self):\n",
    "        today = date.today()\n",
    "        return today.year - born.year - ((today.month, today.day) < (born.month, born.day))\n",
    "    \n",
    "class Sort1:\n",
    "    print(\"sorted\")\n",
    "  \n",
    "obj1 = Person('Parag', 19/6/1993, 'Gunjal')\n",
    "obj2 = Person('aa',1/1/1999,'bb')       "
   ]
  },
  {
   "cell_type": "code",
   "execution_count": null,
   "id": "b699882e",
   "metadata": {},
   "outputs": [],
   "source": []
  }
 ],
 "metadata": {
  "kernelspec": {
   "display_name": "Python 3 (ipykernel)",
   "language": "python",
   "name": "python3"
  },
  "language_info": {
   "codemirror_mode": {
    "name": "ipython",
    "version": 3
   },
   "file_extension": ".py",
   "mimetype": "text/x-python",
   "name": "python",
   "nbconvert_exporter": "python",
   "pygments_lexer": "ipython3",
   "version": "3.10.3"
  }
 },
 "nbformat": 4,
 "nbformat_minor": 5
}

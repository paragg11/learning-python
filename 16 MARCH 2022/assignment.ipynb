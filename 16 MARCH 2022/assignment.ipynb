{
 "cells": [
  {
   "cell_type": "code",
   "execution_count": 3,
   "id": "446bbdaf",
   "metadata": {},
   "outputs": [],
   "source": [
    "class Shape():\n",
    "    def __init__ (self,area,perimeter):\n",
    "        self.area = 'area'\n",
    "        self.perimeter = 'perimeter'\n",
    " "
   ]
  },
  {
   "cell_type": "code",
   "execution_count": 4,
   "id": "6a39a0a3",
   "metadata": {},
   "outputs": [
    {
     "name": "stdout",
     "output_type": "stream",
     "text": [
      "314.0\n",
      "62.800000000000004\n"
     ]
    }
   ],
   "source": [
    "class Circle(Shape):\n",
    "    \n",
    "    pi = 3.14\n",
    "\n",
    "    def __init__ (self,radius):\n",
    "        self.radius = 'Radius'\n",
    "       \n",
    "        self.area =  radius * radius * self.pi\n",
    "        self.perimeter = 2 * self.pi * radius\n",
    "        \n",
    "c = Circle(10)\n",
    "print(c.area)\n",
    "print(c.perimeter)\n",
    "\n",
    "        \n",
    "        \n"
   ]
  },
  {
   "cell_type": "code",
   "execution_count": 5,
   "id": "3114a53a",
   "metadata": {},
   "outputs": [
    {
     "name": "stdout",
     "output_type": "stream",
     "text": [
      "200\n",
      "60\n"
     ]
    }
   ],
   "source": [
    "class Rectangle(Shape):\n",
    "    \n",
    "    def __init__ (self,length,breadth):\n",
    "        self.length = length\n",
    "        self.breadth = breadth\n",
    "        \n",
    "        self.area = length * breadth\n",
    "        self.perimeter = 2 * (length+breadth)\n",
    "        \n",
    "r = Rectangle(20,10)\n",
    "print(r.area)\n",
    "print(r.perimeter)"
   ]
  },
  {
   "cell_type": "code",
   "execution_count": 6,
   "id": "b5b845dd",
   "metadata": {},
   "outputs": [
    {
     "name": "stdout",
     "output_type": "stream",
     "text": [
      "100\n",
      "40\n"
     ]
    }
   ],
   "source": [
    "class Square(Shape):\n",
    "    \n",
    "    def __init__(self,side):\n",
    "        self.side = side\n",
    "        \n",
    "        self.area = side * side\n",
    "        self.perimeter = 4 * side\n",
    "        \n",
    "s = Square(10)\n",
    "print(s.area)\n",
    "print(s.perimeter)"
   ]
  },
  {
   "cell_type": "code",
   "execution_count": 9,
   "id": "f135c5bf",
   "metadata": {},
   "outputs": [
    {
     "name": "stdout",
     "output_type": "stream",
     "text": [
      "100.0\n",
      "30\n"
     ]
    }
   ],
   "source": [
    "class Triangle(Shape):\n",
    "    def __init__(self,length,height,length1,length2):\n",
    "        self.length = length\n",
    "        self.height = height\n",
    "        self.length1 = length1\n",
    "        self.length2 = length2\n",
    "        \n",
    "        self.area = 0.5 * length * height\n",
    "        self.perimeter = length + length1 + length2\n",
    "        \n",
    "t = Triangle(20,10,5,5)\n",
    "print(t.area)\n",
    "print(t.perimeter)"
   ]
  },
  {
   "cell_type": "code",
   "execution_count": null,
   "id": "c1cb180d",
   "metadata": {},
   "outputs": [],
   "source": []
  },
  {
   "cell_type": "code",
   "execution_count": null,
   "id": "0e5b630c",
   "metadata": {},
   "outputs": [],
   "source": []
  }
 ],
 "metadata": {
  "kernelspec": {
   "display_name": "Python 3 (ipykernel)",
   "language": "python",
   "name": "python3"
  },
  "language_info": {
   "codemirror_mode": {
    "name": "ipython",
    "version": 3
   },
   "file_extension": ".py",
   "mimetype": "text/x-python",
   "name": "python",
   "nbconvert_exporter": "python",
   "pygments_lexer": "ipython3",
   "version": "3.10.2"
  }
 },
 "nbformat": 4,
 "nbformat_minor": 5
}

{
 "cells": [
  {
   "cell_type": "code",
   "execution_count": 2,
   "id": "5a9ac6da",
   "metadata": {},
   "outputs": [],
   "source": [
    "def add(n1,n2):\n",
    "    return n1+n2"
   ]
  },
  {
   "cell_type": "raw",
   "id": "ebd046ab",
   "metadata": {},
   "source": []
  },
  {
   "cell_type": "code",
   "execution_count": 5,
   "id": "21085b0e",
   "metadata": {},
   "outputs": [
    {
     "data": {
      "text/plain": [
       "320"
      ]
     },
     "execution_count": 5,
     "metadata": {},
     "output_type": "execute_result"
    }
   ],
   "source": [
    "result = add(100,220)\n",
    "result"
   ]
  },
  {
   "cell_type": "code",
   "execution_count": 15,
   "id": "3b70ed13",
   "metadata": {},
   "outputs": [
    {
     "data": {
      "text/plain": [
       "[3, 5, 4, 4, 5, 5]"
      ]
     },
     "execution_count": 15,
     "metadata": {},
     "output_type": "execute_result"
    }
   ],
   "source": [
    "list1 = [\"abu\",\"Abrar\",\"yash\",\"Yash\",\"parag\",\"Parag\"]\n",
    "\n",
    "newlist = [len(x) for x in list1 ]\n",
    "newlist"
   ]
  },
  {
   "cell_type": "code",
   "execution_count": 18,
   "id": "db23cefd",
   "metadata": {},
   "outputs": [
    {
     "data": {
      "text/plain": [
       "{'abu': 3, 'Abrar': 5, 'yash': 4, 'Yash': 4, 'parag': 5, 'Parag': 5}"
      ]
     },
     "execution_count": 18,
     "metadata": {},
     "output_type": "execute_result"
    }
   ],
   "source": [
    "list1 = [\"abu\",\"Abrar\",\"yash\",\"Yash\",\"parag\",\"Parag\"]\n",
    "liist2 = {x:len(x) for x in list1}\n",
    "liist2"
   ]
  },
  {
   "cell_type": "code",
   "execution_count": 22,
   "id": "aa24ebf9",
   "metadata": {},
   "outputs": [
    {
     "data": {
      "text/plain": [
       "'paragay'"
      ]
     },
     "execution_count": 22,
     "metadata": {},
     "output_type": "execute_result"
    }
   ],
   "source": [
    "def vowel(word):\n",
    "    first_letter = word[0]\n",
    "    \n",
    "    if first_letter in 'aeiou':\n",
    "        pig_word = word + 'ay'\n",
    "    else:\n",
    "        pig_word = word + 'ay'\n",
    "    return pig_word\n",
    "\n",
    "vowel('parag')"
   ]
  },
  {
   "cell_type": "code",
   "execution_count": 24,
   "id": "743b18c7",
   "metadata": {},
   "outputs": [],
   "source": [
    "def myfun(*args):\n",
    "    for item in args:\n",
    "        print(item)\n",
    "        "
   ]
  },
  {
   "cell_type": "code",
   "execution_count": 25,
   "id": "6dcf2da9",
   "metadata": {},
   "outputs": [
    {
     "name": "stdout",
     "output_type": "stream",
     "text": [
      "10\n",
      "20\n",
      "30\n",
      "40\n",
      "50\n",
      "60\n"
     ]
    }
   ],
   "source": [
    "myfun(10,20,30,40,50,60)"
   ]
  },
  {
   "cell_type": "code",
   "execution_count": 38,
   "id": "b4037aab",
   "metadata": {},
   "outputs": [],
   "source": [
    "def myfunn(**kwargs):\n",
    "    print(kwargs)\n",
    "    if 'fruit' in kwargs:\n",
    "        print('My fruit choice is {}'.format(kwargs['fruit']))\n",
    "    else:\n",
    "        print('I did not find any fruit here.')\n",
    "        \n",
    "        "
   ]
  },
  {
   "cell_type": "code",
   "execution_count": 39,
   "id": "226168f3",
   "metadata": {},
   "outputs": [
    {
     "name": "stdout",
     "output_type": "stream",
     "text": [
      "{'fruit': 'apple'}\n",
      "My fruit choice is apple\n"
     ]
    }
   ],
   "source": [
    "myfunn(fruit='apple')"
   ]
  },
  {
   "cell_type": "code",
   "execution_count": 35,
   "id": "04019717",
   "metadata": {},
   "outputs": [],
   "source": [
    "def myfunc(*args,**kwargs):\n",
    "    print(args)\n",
    "    print(kwargs)\n",
    "    print('I would like to eat {} {}'.format(args[0],kwargs['food']))"
   ]
  },
  {
   "cell_type": "code",
   "execution_count": 41,
   "id": "926f9e8a",
   "metadata": {},
   "outputs": [
    {
     "name": "stdout",
     "output_type": "stream",
     "text": [
      "(10, 20, 30)\n",
      "{'food': 'eggs'}\n",
      "I would like to eat 10 eggs\n"
     ]
    }
   ],
   "source": [
    "myfunc(10,20,30,food = 'eggs')"
   ]
  },
  {
   "cell_type": "code",
   "execution_count": null,
   "id": "4b6fe630",
   "metadata": {},
   "outputs": [],
   "source": []
  },
  {
   "cell_type": "code",
   "execution_count": null,
   "id": "364f9d46",
   "metadata": {},
   "outputs": [],
   "source": []
  }
 ],
 "metadata": {
  "kernelspec": {
   "display_name": "Python 3 (ipykernel)",
   "language": "python",
   "name": "python3"
  },
  "language_info": {
   "codemirror_mode": {
    "name": "ipython",
    "version": 3
   },
   "file_extension": ".py",
   "mimetype": "text/x-python",
   "name": "python",
   "nbconvert_exporter": "python",
   "pygments_lexer": "ipython3",
   "version": "3.10.2"
  }
 },
 "nbformat": 4,
 "nbformat_minor": 5
}

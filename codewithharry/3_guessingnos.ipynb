{
 "cells": [
  {
   "cell_type": "code",
   "execution_count": null,
   "id": "2eb8451e",
   "metadata": {},
   "outputs": [
    {
     "name": "stdout",
     "output_type": "stream",
     "text": [
      "Total no. of guesses : 9\n",
      "Guess the number in this game : 19\n",
      "You have entered greater number... Please enter lesser nnumber : \n",
      "Number of Guesses :  9\n",
      "Guess the number in this game : 14\n",
      "You have entered lesser number... Please enter greater nnumber : \n",
      "Number of Guesses :  8\n",
      "Guess the number in this game : 18\n",
      "CONGRALUTIONS!!! YOU HAVE WON !!!\n",
      "Number of Guesses :  7\n"
     ]
    }
   ],
   "source": [
    "#Number of guesses 9\n",
    "#Print number of guesses left\n",
    "#Number of guesses he took\n",
    "#Game over\n",
    "\n",
    "n = 18\n",
    "No_of_Guesses = 0\n",
    "\n",
    "print(\"Total no. of guesses : 9\")\n",
    "\n",
    "while(No_of_Guesses<9):\n",
    "    guess_num = int(input(\"Guess the number in this game : \"))\n",
    "    if (guess_num < 18):\n",
    "        print(\"You have entered lesser number... Please enter greater nnumber : \")\n",
    "        \n",
    "    elif (guess_num > 18):\n",
    "        print(\"You have entered greater number... Please enter lesser nnumber : \")\n",
    "        \n",
    "    else:\n",
    "        print(\"CONGRALUTIONS!!! YOU HAVE WON !!!\")\n",
    "        \n",
    "    print(\"Number of Guesses : \", 9 -No_of_Guesses)\n",
    "    No_of_Guesses = No_of_Guesses + 1\n",
    "   \n",
    "else:\n",
    "    print(\"GAME OVER!!!\")\n",
    "    "
   ]
  },
  {
   "cell_type": "code",
   "execution_count": null,
   "id": "21f7b0b7",
   "metadata": {},
   "outputs": [],
   "source": []
  },
  {
   "cell_type": "code",
   "execution_count": null,
   "id": "26571bca",
   "metadata": {},
   "outputs": [],
   "source": []
  }
 ],
 "metadata": {
  "kernelspec": {
   "display_name": "Python 3 (ipykernel)",
   "language": "python",
   "name": "python3"
  },
  "language_info": {
   "codemirror_mode": {
    "name": "ipython",
    "version": 3
   },
   "file_extension": ".py",
   "mimetype": "text/x-python",
   "name": "python",
   "nbconvert_exporter": "python",
   "pygments_lexer": "ipython3",
   "version": "3.10.3"
  }
 },
 "nbformat": 4,
 "nbformat_minor": 5
}

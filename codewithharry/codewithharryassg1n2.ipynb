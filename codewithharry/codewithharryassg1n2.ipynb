{
 "cells": [
  {
   "cell_type": "code",
   "execution_count": 16,
   "id": "e1acd866",
   "metadata": {},
   "outputs": [],
   "source": [
    "#Assignment 1 print dict\n",
    "d = {'lst': 'mutable,changeable,seq of nos', 'ssttr' : 'seq of characters,immutable', 'nos':'nos valuez are created', 'dic':'key value pairs',\n",
    "    'boolen': 'True/False'}"
   ]
  },
  {
   "cell_type": "code",
   "execution_count": 23,
   "id": "29f97404",
   "metadata": {},
   "outputs": [
    {
     "name": "stdout",
     "output_type": "stream",
     "text": [
      "Give an input : dic\n"
     ]
    }
   ],
   "source": [
    "a = input(\"Give an input : \")"
   ]
  },
  {
   "cell_type": "code",
   "execution_count": null,
   "id": "28c0a69a",
   "metadata": {},
   "outputs": [],
   "source": [
    "print(d[a])"
   ]
  },
  {
   "cell_type": "code",
   "execution_count": 40,
   "id": "9d1c38dc",
   "metadata": {},
   "outputs": [
    {
     "name": "stdout",
     "output_type": "stream",
     "text": [
      "Enter the first no: \n",
      "6\n",
      "Enter the second no: \n",
      "3\n",
      "Enter the operations + - * / :\n",
      "/\n",
      "2.0\n"
     ]
    }
   ],
   "source": [
    "# assignement 2 : Faculty Calculator\n",
    "# Design calculator except : 45*3 = 555, 56+9 = 77, 56/6 = 4\n",
    "\n",
    "print(\"Enter the first no: \")\n",
    "num1 = int(input())\n",
    "print(\"Enter the second no: \")\n",
    "num2 = int(input())\n",
    "print(\"Enter the operations + - * / :\")\n",
    "num3 = (input())\n",
    "\n",
    "if num1 == 56 and num2 == 9 and num3 == '+':\n",
    "    print(77)\n",
    "elif num3 == '+' :\n",
    "    num4 = num1 + num2\n",
    "    print(num4)\n",
    "    \n",
    "elif num1 == 45 and num2 == 3 and num3 == '*':\n",
    "    print(555)\n",
    "elif num3 == '*':\n",
    "    num5 = (num1*num2)\n",
    "    print(num5)\n",
    "    \n",
    "elif num1 == 56 and num2 == 6 and num3 == '/':\n",
    "    print(4)\n",
    "elif num3 == '/': \n",
    "    num6 = num1 / num2\n",
    "    print(num6)\n",
    "    \n",
    "else:\n",
    "    print(\"wrong input\")\n"
   ]
  },
  {
   "cell_type": "code",
   "execution_count": null,
   "id": "c4ba2363",
   "metadata": {},
   "outputs": [],
   "source": []
  },
  {
   "cell_type": "code",
   "execution_count": null,
   "id": "caf46359",
   "metadata": {},
   "outputs": [],
   "source": []
  },
  {
   "cell_type": "code",
   "execution_count": null,
   "id": "def660e4",
   "metadata": {},
   "outputs": [],
   "source": []
  },
  {
   "cell_type": "code",
   "execution_count": null,
   "id": "b067dc99",
   "metadata": {},
   "outputs": [],
   "source": []
  }
 ],
 "metadata": {
  "kernelspec": {
   "display_name": "Python 3 (ipykernel)",
   "language": "python",
   "name": "python3"
  },
  "language_info": {
   "codemirror_mode": {
    "name": "ipython",
    "version": 3
   },
   "file_extension": ".py",
   "mimetype": "text/x-python",
   "name": "python",
   "nbconvert_exporter": "python",
   "pygments_lexer": "ipython3",
   "version": "3.10.2"
  }
 },
 "nbformat": 4,
 "nbformat_minor": 5
}

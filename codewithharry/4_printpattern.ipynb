{
 "cells": [
  {
   "cell_type": "code",
   "execution_count": 5,
   "id": "901c0352",
   "metadata": {},
   "outputs": [
    {
     "name": "stdout",
     "output_type": "stream",
     "text": [
      "PRINTING PATTERN\n",
      "How many rows you want : 3\n",
      "Enter 1 or 0 : \n",
      "Enter 1 for true and 0 for False : 0\n",
      "***\n",
      "**\n",
      "*\n"
     ]
    }
   ],
   "source": [
    "# PRINTING PATTERN\n",
    "\n",
    "print(\"PRINTING PATTERN\")\n",
    "num = int(input('How many rows you want : '))\n",
    "print(\"Enter 1 or 0 : \")\n",
    "bool_val = input('Enter 1 for true and 0 for False : ')\n",
    "if bool_val == \"1\":\n",
    "    for i in range(0,num+1):\n",
    "        print('*' * int(i))\n",
    "        \n",
    "if bool_val == \"0\":\n",
    "    for i in range(num,0,-1):\n",
    "        print('*' * int(i))"
   ]
  },
  {
   "cell_type": "code",
   "execution_count": null,
   "id": "5e124a0d",
   "metadata": {},
   "outputs": [],
   "source": []
  }
 ],
 "metadata": {
  "kernelspec": {
   "display_name": "Python 3 (ipykernel)",
   "language": "python",
   "name": "python3"
  },
  "language_info": {
   "codemirror_mode": {
    "name": "ipython",
    "version": 3
   },
   "file_extension": ".py",
   "mimetype": "text/x-python",
   "name": "python",
   "nbconvert_exporter": "python",
   "pygments_lexer": "ipython3",
   "version": "3.10.3"
  }
 },
 "nbformat": 4,
 "nbformat_minor": 5
}

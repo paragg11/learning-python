{
 "cells": [
  {
   "cell_type": "code",
   "execution_count": 5,
   "id": "1c1a8c71",
   "metadata": {},
   "outputs": [],
   "source": [
    "#Function that computes the volume of sphere given its radius\n",
    "\n",
    "def volume_sphere(rad):\n",
    "    return (4.0/3)*(3.14)*(rad**3)               \n"
   ]
  },
  {
   "cell_type": "markdown",
   "id": "8103d056",
   "metadata": {},
   "source": [
    "volume_sphere(5)"
   ]
  },
  {
   "cell_type": "code",
   "execution_count": 7,
   "id": "479eda5d",
   "metadata": {},
   "outputs": [
    {
     "data": {
      "text/plain": [
       "4186.666666666667"
      ]
     },
     "execution_count": 7,
     "metadata": {},
     "output_type": "execute_result"
    }
   ],
   "source": [
    "volume_sphere(10)"
   ]
  },
  {
   "cell_type": "code",
   "execution_count": 10,
   "id": "65138a83",
   "metadata": {},
   "outputs": [],
   "source": [
    "#Function to check whether a number is in a given range(inclusive of high and low)\n",
    "\n",
    "def nos_in_range(num,low,high):\n",
    "    if num in range(low,high):              \n",
    "        print(f'{num} is in range')\n",
    "    else:\n",
    "        print ('Number is out of range.')"
   ]
  },
  {
   "cell_type": "code",
   "execution_count": 11,
   "id": "756f094f",
   "metadata": {},
   "outputs": [
    {
     "name": "stdout",
     "output_type": "stream",
     "text": [
      "30 is in range\n"
     ]
    }
   ],
   "source": [
    "nos_in_range(30,10,100)"
   ]
  },
  {
   "cell_type": "code",
   "execution_count": 12,
   "id": "13c84856",
   "metadata": {},
   "outputs": [
    {
     "name": "stdout",
     "output_type": "stream",
     "text": [
      "Number is out of range.\n"
     ]
    }
   ],
   "source": [
    "nos_in_range(300,10,100)"
   ]
  },
  {
   "cell_type": "code",
   "execution_count": 15,
   "id": "5de328f8",
   "metadata": {},
   "outputs": [],
   "source": [
    "def nos_in_range_bol(num,low,high):\n",
    "    return num in range(low,high)\n",
    "    "
   ]
  },
  {
   "cell_type": "code",
   "execution_count": 16,
   "id": "de78f8c2",
   "metadata": {},
   "outputs": [
    {
     "data": {
      "text/plain": [
       "True"
      ]
     },
     "execution_count": 16,
     "metadata": {},
     "output_type": "execute_result"
    }
   ],
   "source": [
    "nos_in_range_bol(30,10,100)"
   ]
  },
  {
   "cell_type": "code",
   "execution_count": 17,
   "id": "efcfbd64",
   "metadata": {},
   "outputs": [
    {
     "name": "stdout",
     "output_type": "stream",
     "text": [
      "30 is in range\n"
     ]
    }
   ],
   "source": [
    "nos_in_range(30,10,100)"
   ]
  },
  {
   "cell_type": "code",
   "execution_count": 18,
   "id": "e1298d65",
   "metadata": {},
   "outputs": [
    {
     "data": {
      "text/plain": [
       "False"
      ]
     },
     "execution_count": 18,
     "metadata": {},
     "output_type": "execute_result"
    }
   ],
   "source": [
    "nos_in_range_bol(1,10,100)"
   ]
  },
  {
   "cell_type": "code",
   "execution_count": 25,
   "id": "fb1dd0fd",
   "metadata": {},
   "outputs": [],
   "source": [
    "#Write a function that accepts string and calculate the upper case and lower case\n",
    "\n",
    "def cal_string(x):\n",
    "    d={\"upper\":0,\"lower\":0}\n",
    "    for s in x :\n",
    "        if s == s.upper():\n",
    "            d[\"upper\"] += 1\n",
    "        elif s == s.lower():\n",
    "            d[\"lower\"] += 1\n",
    "        else:\n",
    "            pass\n",
    "        \n",
    "    print (\"The original String is : \", x) \n",
    "    print (\"No of upper case characters: \",d[\"upper\"])\n",
    "    print (\"No of lower case characters: \",d[\"lower\"])\n",
    "    "
   ]
  },
  {
   "cell_type": "code",
   "execution_count": 26,
   "id": "d53f4ece",
   "metadata": {},
   "outputs": [
    {
     "name": "stdout",
     "output_type": "stream",
     "text": [
      "The original String is :  My name is parag\n",
      "No of upper case characters:  4\n",
      "No of lower case characters:  12\n"
     ]
    }
   ],
   "source": [
    "x=\"My name is parag\"\n",
    "cal_string(x)"
   ]
  },
  {
   "cell_type": "code",
   "execution_count": 8,
   "id": "db075b7d",
   "metadata": {},
   "outputs": [],
   "source": [
    "#Python function that takes a list and returns a new list with unique elements of the first list\n",
    "\n",
    "def unique_list(p):\n",
    "    x = []\n",
    "    for a in p:\n",
    "        if a not in x:\n",
    "            x.append(a)\n",
    "    return x"
   ]
  },
  {
   "cell_type": "code",
   "execution_count": 9,
   "id": "bd213c27",
   "metadata": {},
   "outputs": [
    {
     "data": {
      "text/plain": [
       "[1, 2, 3, 4, 5, 6]"
      ]
     },
     "execution_count": 9,
     "metadata": {},
     "output_type": "execute_result"
    }
   ],
   "source": [
    "unique_list([1,1,2,2,3,4,5,5,5,5,6])"
   ]
  },
  {
   "cell_type": "code",
   "execution_count": 16,
   "id": "02a7ec4c",
   "metadata": {},
   "outputs": [],
   "source": [
    "#Python function to multiply all nos is list\n",
    "\n",
    "def multiple(num):\n",
    "    total = num[0]\n",
    "    for x in num:\n",
    "        total *= x        \n",
    "    return total"
   ]
  },
  {
   "cell_type": "code",
   "execution_count": 18,
   "id": "a1d5875e",
   "metadata": {},
   "outputs": [
    {
     "data": {
      "text/plain": [
       "240"
      ]
     },
     "execution_count": 18,
     "metadata": {},
     "output_type": "execute_result"
    }
   ],
   "source": [
    "multiple([2,3,4,5])"
   ]
  },
  {
   "cell_type": "code",
   "execution_count": 20,
   "id": "08f9cfb9",
   "metadata": {},
   "outputs": [],
   "source": [
    "#python function to check whether a passed string palindrome or not\n",
    "def palindrome(s):\n",
    "    return s == s[::-1]"
   ]
  },
  {
   "cell_type": "code",
   "execution_count": 21,
   "id": "07f509f9",
   "metadata": {},
   "outputs": [
    {
     "data": {
      "text/plain": [
       "True"
      ]
     },
     "execution_count": 21,
     "metadata": {},
     "output_type": "execute_result"
    }
   ],
   "source": [
    "palindrome('helleh')"
   ]
  },
  {
   "cell_type": "code",
   "execution_count": 22,
   "id": "2c924ec2",
   "metadata": {},
   "outputs": [
    {
     "data": {
      "text/plain": [
       "False"
      ]
     },
     "execution_count": 22,
     "metadata": {},
     "output_type": "execute_result"
    }
   ],
   "source": [
    "palindrome('hello')"
   ]
  },
  {
   "cell_type": "code",
   "execution_count": null,
   "id": "db48db56",
   "metadata": {},
   "outputs": [],
   "source": []
  }
 ],
 "metadata": {
  "kernelspec": {
   "display_name": "Python 3 (ipykernel)",
   "language": "python",
   "name": "python3"
  },
  "language_info": {
   "codemirror_mode": {
    "name": "ipython",
    "version": 3
   },
   "file_extension": ".py",
   "mimetype": "text/x-python",
   "name": "python",
   "nbconvert_exporter": "python",
   "pygments_lexer": "ipython3",
   "version": "3.10.2"
  }
 },
 "nbformat": 4,
 "nbformat_minor": 5
}

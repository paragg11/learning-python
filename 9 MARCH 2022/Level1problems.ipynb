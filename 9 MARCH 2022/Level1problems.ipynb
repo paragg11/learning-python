{
 "cells": [
  {
   "cell_type": "code",
   "execution_count": 37,
   "id": "5a02ca3d",
   "metadata": {},
   "outputs": [],
   "source": [
    "# Capitalize first and fourth words of name\n",
    "def capital_words(name): \n",
    "    first_half = name[:3]\n",
    "    second_half = name[3:]\n",
    "    \n",
    "    return first_half.capitalize()+second_half.capitalize()\n"
   ]
  },
  {
   "cell_type": "code",
   "execution_count": 38,
   "id": "4e2b7272",
   "metadata": {},
   "outputs": [
    {
     "data": {
      "text/plain": [
       "'MacDi'"
      ]
     },
     "execution_count": 38,
     "metadata": {},
     "output_type": "execute_result"
    }
   ],
   "source": [
    "capital_words('macdi')"
   ]
  },
  {
   "cell_type": "code",
   "execution_count": 39,
   "id": "13508bfc",
   "metadata": {},
   "outputs": [],
   "source": [
    "# Capitalize first whole word and fourth word of name\n",
    "\n",
    "def capital_words(text): \n",
    "    first_half = text[:3]\n",
    "    second_half = text[3:]\n",
    "    \n",
    "    return first_half.capitalize().upper()+second_half.capitalize()\n"
   ]
  },
  {
   "cell_type": "code",
   "execution_count": 40,
   "id": "823c2855",
   "metadata": {},
   "outputs": [
    {
     "data": {
      "text/plain": [
       "'MACDi'"
      ]
     },
     "execution_count": 40,
     "metadata": {},
     "output_type": "execute_result"
    }
   ],
   "source": [
    "capital_words('macdi')"
   ]
  },
  {
   "cell_type": "code",
   "execution_count": 54,
   "id": "7b38daa5",
   "metadata": {},
   "outputs": [],
   "source": [
    "# Given a sentence return a sentence with words reversed\n",
    "def reverse_stmt(text):\n",
    "    \n",
    "   \n",
    "    var= text.split()\n",
    "    return var[::-1]\n",
    "    \n",
    "    \n",
    "   "
   ]
  },
  {
   "cell_type": "code",
   "execution_count": 55,
   "id": "4f8d6870",
   "metadata": {},
   "outputs": [
    {
     "data": {
      "text/plain": [
       "['home', 'at', 'm', 'i', 'Hello']"
      ]
     },
     "execution_count": 55,
     "metadata": {},
     "output_type": "execute_result"
    }
   ],
   "source": [
    "reverse_stmt('Hello i m at home')"
   ]
  },
  {
   "cell_type": "code",
   "execution_count": null,
   "id": "330a1fba",
   "metadata": {},
   "outputs": [],
   "source": []
  },
  {
   "cell_type": "code",
   "execution_count": null,
   "id": "22801379",
   "metadata": {},
   "outputs": [],
   "source": []
  }
 ],
 "metadata": {
  "kernelspec": {
   "display_name": "Python 3 (ipykernel)",
   "language": "python",
   "name": "python3"
  },
  "language_info": {
   "codemirror_mode": {
    "name": "ipython",
    "version": 3
   },
   "file_extension": ".py",
   "mimetype": "text/x-python",
   "name": "python",
   "nbconvert_exporter": "python",
   "pygments_lexer": "ipython3",
   "version": "3.10.2"
  }
 },
 "nbformat": 4,
 "nbformat_minor": 5
}

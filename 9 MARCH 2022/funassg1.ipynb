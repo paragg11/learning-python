{
 "cells": [
  {
   "cell_type": "code",
   "execution_count": 1,
   "id": "9d39580f",
   "metadata": {},
   "outputs": [],
   "source": [
    "def lesser_of_two_nos(a,b):\n",
    "    if a%2 == 0 and b%2 == 0:  # BOTH NOS ARE EVEN\n",
    "        if a < b:\n",
    "            result = a\n",
    "        else:\n",
    "            result = b\n",
    "    else:                      # BOTH OR ONE OF BOTH IS ODD NO\n",
    "        if a < b: \n",
    "            result = a\n",
    "        else:\n",
    "            result = b\n",
    "    return result "
   ]
  },
  {
   "cell_type": "code",
   "execution_count": 2,
   "id": "d6eabb7a",
   "metadata": {},
   "outputs": [
    {
     "data": {
      "text/plain": [
       "2"
      ]
     },
     "execution_count": 2,
     "metadata": {},
     "output_type": "execute_result"
    }
   ],
   "source": [
    "lesser_of_two_nos(2,4)"
   ]
  },
  {
   "cell_type": "code",
   "execution_count": 3,
   "id": "c76d559e",
   "metadata": {},
   "outputs": [
    {
     "data": {
      "text/plain": [
       "2"
      ]
     },
     "execution_count": 3,
     "metadata": {},
     "output_type": "execute_result"
    }
   ],
   "source": [
    "lesser_of_two_nos(4,2)"
   ]
  },
  {
   "cell_type": "code",
   "execution_count": 4,
   "id": "bc406d29",
   "metadata": {},
   "outputs": [
    {
     "data": {
      "text/plain": [
       "3"
      ]
     },
     "execution_count": 4,
     "metadata": {},
     "output_type": "execute_result"
    }
   ],
   "source": [
    "lesser_of_two_nos(3,5)"
   ]
  },
  {
   "cell_type": "code",
   "execution_count": 5,
   "id": "1f3a88f1",
   "metadata": {},
   "outputs": [
    {
     "data": {
      "text/plain": [
       "3"
      ]
     },
     "execution_count": 5,
     "metadata": {},
     "output_type": "execute_result"
    }
   ],
   "source": [
    "lesser_of_two_nos(5,3)"
   ]
  },
  {
   "cell_type": "code",
   "execution_count": 6,
   "id": "80383e8e",
   "metadata": {},
   "outputs": [
    {
     "data": {
      "text/plain": [
       "4"
      ]
     },
     "execution_count": 6,
     "metadata": {},
     "output_type": "execute_result"
    }
   ],
   "source": [
    "lesser_of_two_nos(4,9)"
   ]
  },
  {
   "cell_type": "code",
   "execution_count": 7,
   "id": "952cccbe",
   "metadata": {},
   "outputs": [],
   "source": [
    "def lesser_of_two_nos(a,b):\n",
    "    if a%2 == 0 and b%2 == 0:  # BOTH NOS ARE EVEN\n",
    "       return min(a,b)\n",
    "    else:                      # BOTH OR ONE OF BOTH IS ODD NO\n",
    "       return min(a,b)\n",
    "    "
   ]
  },
  {
   "cell_type": "code",
   "execution_count": 8,
   "id": "3834a14c",
   "metadata": {},
   "outputs": [
    {
     "data": {
      "text/plain": [
       "2"
      ]
     },
     "execution_count": 8,
     "metadata": {},
     "output_type": "execute_result"
    }
   ],
   "source": [
    "lesser_of_two_nos(2,4)"
   ]
  },
  {
   "cell_type": "code",
   "execution_count": 9,
   "id": "d066b891",
   "metadata": {},
   "outputs": [
    {
     "data": {
      "text/plain": [
       "5"
      ]
     },
     "execution_count": 9,
     "metadata": {},
     "output_type": "execute_result"
    }
   ],
   "source": [
    "lesser_of_two_nos(5,10)"
   ]
  },
  {
   "cell_type": "code",
   "execution_count": 17,
   "id": "1fb3d163",
   "metadata": {},
   "outputs": [],
   "source": [
    "def check_strings_first_letter(text):  #\n",
    "    words = text.lower().split()\n",
    "    \n",
    "    return words[0][0] == words[1][0]"
   ]
  },
  {
   "cell_type": "code",
   "execution_count": 18,
   "id": "c5552f10",
   "metadata": {},
   "outputs": [
    {
     "data": {
      "text/plain": [
       "True"
      ]
     },
     "execution_count": 18,
     "metadata": {},
     "output_type": "execute_result"
    }
   ],
   "source": [
    "check_strings_first_letter('Land Lord')"
   ]
  },
  {
   "cell_type": "code",
   "execution_count": 19,
   "id": "6e800aaa",
   "metadata": {},
   "outputs": [
    {
     "data": {
      "text/plain": [
       "False"
      ]
     },
     "execution_count": 19,
     "metadata": {},
     "output_type": "execute_result"
    }
   ],
   "source": [
    "check_strings_first_letter('Land acre')"
   ]
  },
  {
   "cell_type": "code",
   "execution_count": 20,
   "id": "b3f337a9",
   "metadata": {},
   "outputs": [
    {
     "data": {
      "text/plain": [
       "True"
      ]
     },
     "execution_count": 20,
     "metadata": {},
     "output_type": "execute_result"
    }
   ],
   "source": [
    "check_strings_first_letter('Land lord')"
   ]
  },
  {
   "cell_type": "code",
   "execution_count": 21,
   "id": "482f74bc",
   "metadata": {},
   "outputs": [],
   "source": [
    "def check_twenty(n1,n2):            # ADDICTION OF TWO NOS OR SINGLE NO IS 20\n",
    "    return (n1+n2 == 20) or n1 == 20 or n2 == 20\n"
   ]
  },
  {
   "cell_type": "code",
   "execution_count": 22,
   "id": "bafd343f",
   "metadata": {},
   "outputs": [
    {
     "data": {
      "text/plain": [
       "True"
      ]
     },
     "execution_count": 22,
     "metadata": {},
     "output_type": "execute_result"
    }
   ],
   "source": [
    "check_twenty(12,8)"
   ]
  },
  {
   "cell_type": "code",
   "execution_count": 23,
   "id": "1bce4c6f",
   "metadata": {},
   "outputs": [
    {
     "data": {
      "text/plain": [
       "True"
      ]
     },
     "execution_count": 23,
     "metadata": {},
     "output_type": "execute_result"
    }
   ],
   "source": [
    "check_twenty(20,22)"
   ]
  },
  {
   "cell_type": "code",
   "execution_count": 24,
   "id": "d6737c46",
   "metadata": {},
   "outputs": [
    {
     "data": {
      "text/plain": [
       "True"
      ]
     },
     "execution_count": 24,
     "metadata": {},
     "output_type": "execute_result"
    }
   ],
   "source": [
    "check_twenty(10,20)"
   ]
  },
  {
   "cell_type": "code",
   "execution_count": 25,
   "id": "f3d80dba",
   "metadata": {},
   "outputs": [
    {
     "data": {
      "text/plain": [
       "False"
      ]
     },
     "execution_count": 25,
     "metadata": {},
     "output_type": "execute_result"
    }
   ],
   "source": [
    "check_twenty(10,15)"
   ]
  },
  {
   "cell_type": "code",
   "execution_count": null,
   "id": "b5a05c1f",
   "metadata": {},
   "outputs": [],
   "source": []
  }
 ],
 "metadata": {
  "kernelspec": {
   "display_name": "Python 3 (ipykernel)",
   "language": "python",
   "name": "python3"
  },
  "language_info": {
   "codemirror_mode": {
    "name": "ipython",
    "version": 3
   },
   "file_extension": ".py",
   "mimetype": "text/x-python",
   "name": "python",
   "nbconvert_exporter": "python",
   "pygments_lexer": "ipython3",
   "version": "3.10.2"
  }
 },
 "nbformat": 4,
 "nbformat_minor": 5
}

{
 "cells": [
  {
   "cell_type": "code",
   "execution_count": 8,
   "id": "beb5abb8",
   "metadata": {},
   "outputs": [],
   "source": [
    "class Circle():\n",
    "    \n",
    "    pi = 3.14\n",
    "    \n",
    "    def __init__(self,radius):              #class object attribute\n",
    "        self.radius = radius\n",
    "        \n",
    "    def get_circumference(self):\n",
    "        return self.radius * self.pi * 2"
   ]
  },
  {
   "cell_type": "code",
   "execution_count": 9,
   "id": "62c2c249",
   "metadata": {},
   "outputs": [],
   "source": [
    "my_circle = Circle(10)"
   ]
  },
  {
   "cell_type": "code",
   "execution_count": 10,
   "id": "40121433",
   "metadata": {},
   "outputs": [
    {
     "data": {
      "text/plain": [
       "3.14"
      ]
     },
     "execution_count": 10,
     "metadata": {},
     "output_type": "execute_result"
    }
   ],
   "source": [
    "my_circle.pi"
   ]
  },
  {
   "cell_type": "code",
   "execution_count": 11,
   "id": "10b0002e",
   "metadata": {},
   "outputs": [
    {
     "data": {
      "text/plain": [
       "10"
      ]
     },
     "execution_count": 11,
     "metadata": {},
     "output_type": "execute_result"
    }
   ],
   "source": [
    "my_circle.radius\n"
   ]
  },
  {
   "cell_type": "code",
   "execution_count": 12,
   "id": "ac3a238d",
   "metadata": {},
   "outputs": [
    {
     "data": {
      "text/plain": [
       "62.800000000000004"
      ]
     },
     "execution_count": 12,
     "metadata": {},
     "output_type": "execute_result"
    }
   ],
   "source": [
    "my_circle.get_circumference()"
   ]
  },
  {
   "cell_type": "code",
   "execution_count": 19,
   "id": "bb3c5b2d",
   "metadata": {},
   "outputs": [],
   "source": [
    "#Fill in the Line class methods to accept coordinates as a pair of tuples and return the slope and distance of the line.\n",
    "\n",
    "class Line():\n",
    "    \n",
    "    def __init__(self,coord1,coord2):\n",
    "        self.coord1 = coord1\n",
    "        self.coord2 = coord2\n",
    "        \n",
    "    def slope(self):\n",
    "        x1,y1 = self.coord1\n",
    "        x2,y2 = self.coord2\n",
    "        return ((y2-y1)/(x2-x1))\n",
    "    \n",
    "    def distance(self):\n",
    "        x1,y1 = self.coord1\n",
    "        x2,y2 = self.coord2\n",
    "        return ((x2-x1)**2 + (y2-y1)**2)**0.5"
   ]
  },
  {
   "cell_type": "code",
   "execution_count": 20,
   "id": "b4c340aa",
   "metadata": {},
   "outputs": [],
   "source": [
    "coord1 = (3,2)\n",
    "coord2 = (8,10)"
   ]
  },
  {
   "cell_type": "code",
   "execution_count": 21,
   "id": "85bfb3c7",
   "metadata": {},
   "outputs": [],
   "source": [
    "li = Line(coord1,coord2)"
   ]
  },
  {
   "cell_type": "code",
   "execution_count": 22,
   "id": "49279640",
   "metadata": {},
   "outputs": [
    {
     "data": {
      "text/plain": [
       "<bound method Line.distance of <__main__.Line object at 0x000001E00BE1AB00>>"
      ]
     },
     "execution_count": 22,
     "metadata": {},
     "output_type": "execute_result"
    }
   ],
   "source": [
    "li.distance"
   ]
  },
  {
   "cell_type": "code",
   "execution_count": 23,
   "id": "ad780afb",
   "metadata": {},
   "outputs": [
    {
     "data": {
      "text/plain": [
       "9.433981132056603"
      ]
     },
     "execution_count": 23,
     "metadata": {},
     "output_type": "execute_result"
    }
   ],
   "source": [
    "li.distance()"
   ]
  },
  {
   "cell_type": "code",
   "execution_count": 24,
   "id": "0f0520db",
   "metadata": {},
   "outputs": [
    {
     "data": {
      "text/plain": [
       "1.6"
      ]
     },
     "execution_count": 24,
     "metadata": {},
     "output_type": "execute_result"
    }
   ],
   "source": [
    "li.slope()"
   ]
  },
  {
   "cell_type": "code",
   "execution_count": 25,
   "id": "8e91b4e9",
   "metadata": {},
   "outputs": [],
   "source": [
    "class Cylinder():\n",
    "    def __init__(self,height=1,radius=1):\n",
    "        self.height = height\n",
    "        self.radius = radius\n",
    "        \n",
    "    def volume(self):\n",
    "        \n",
    "        return 3.14 * self.height * (self.radius)**2\n",
    "    \n",
    "    def surface_area(self):\n",
    "        return (2*3.14*self.radius*self.height) + (2*3.14*(self.radius)**2)\n",
    "    \n",
    "        "
   ]
  },
  {
   "cell_type": "code",
   "execution_count": 26,
   "id": "2512829d",
   "metadata": {},
   "outputs": [],
   "source": [
    "cy = Cylinder()"
   ]
  },
  {
   "cell_type": "code",
   "execution_count": 27,
   "id": "9b67f70d",
   "metadata": {},
   "outputs": [
    {
     "data": {
      "text/plain": [
       "12.56"
      ]
     },
     "execution_count": 27,
     "metadata": {},
     "output_type": "execute_result"
    }
   ],
   "source": [
    "cy.surface_area()"
   ]
  },
  {
   "cell_type": "code",
   "execution_count": 28,
   "id": "910fd655",
   "metadata": {},
   "outputs": [
    {
     "data": {
      "text/plain": [
       "3.14"
      ]
     },
     "execution_count": 28,
     "metadata": {},
     "output_type": "execute_result"
    }
   ],
   "source": [
    "cy.volume()"
   ]
  },
  {
   "cell_type": "code",
   "execution_count": 29,
   "id": "e17345cf",
   "metadata": {},
   "outputs": [],
   "source": [
    "class Account():\n",
    "    def __init__(self,owner,balance):\n",
    "        self.owner = owner\n",
    "        self.balance = balance\n",
    "        \n",
    "    def __str__(self):\n",
    "        return (f'Account Owner : {self.owner} \\n Account Balance : {self.balance} ')\n",
    "    \n",
    "    def deposit(self,added_amt):\n",
    "        self.balance += added_amt\n",
    "        print('Deposited Amount')\n",
    "        \n",
    "    def withdraw(self,withdraw_amt):\n",
    "        if self.balance >= withdraw_amt:\n",
    "            self.balance -= withdraw_amt\n",
    "            print('Withdraw Amount')\n",
    "        else:\n",
    "            print('Insufficient Fund')"
   ]
  },
  {
   "cell_type": "code",
   "execution_count": 30,
   "id": "83ee82f8",
   "metadata": {},
   "outputs": [],
   "source": [
    "act = Account('Parag',100)"
   ]
  },
  {
   "cell_type": "code",
   "execution_count": 31,
   "id": "16e92b25",
   "metadata": {},
   "outputs": [
    {
     "data": {
      "text/plain": [
       "<__main__.Account at 0x1e00be46980>"
      ]
     },
     "execution_count": 31,
     "metadata": {},
     "output_type": "execute_result"
    }
   ],
   "source": [
    "act"
   ]
  },
  {
   "cell_type": "code",
   "execution_count": 34,
   "id": "dcc9643a",
   "metadata": {},
   "outputs": [
    {
     "name": "stdout",
     "output_type": "stream",
     "text": [
      "Deposited Amount\n"
     ]
    }
   ],
   "source": [
    "act.deposit(100)"
   ]
  },
  {
   "cell_type": "code",
   "execution_count": 35,
   "id": "7bcbfe02",
   "metadata": {},
   "outputs": [
    {
     "name": "stdout",
     "output_type": "stream",
     "text": [
      "Withdraw Amount\n"
     ]
    }
   ],
   "source": [
    "act.withdraw(50)"
   ]
  },
  {
   "cell_type": "code",
   "execution_count": 36,
   "id": "4c9dc423",
   "metadata": {},
   "outputs": [
    {
     "name": "stdout",
     "output_type": "stream",
     "text": [
      "Insufficient Fund\n"
     ]
    }
   ],
   "source": [
    "act.withdraw(1000)"
   ]
  },
  {
   "cell_type": "code",
   "execution_count": 38,
   "id": "d0267bb0",
   "metadata": {},
   "outputs": [
    {
     "name": "stdout",
     "output_type": "stream",
     "text": [
      "Account Owner : Parag \n",
      " Account Balance : 150 \n"
     ]
    }
   ],
   "source": [
    "print(act)"
   ]
  },
  {
   "cell_type": "code",
   "execution_count": null,
   "id": "9bc8d9e1",
   "metadata": {},
   "outputs": [],
   "source": []
  }
 ],
 "metadata": {
  "kernelspec": {
   "display_name": "Python 3 (ipykernel)",
   "language": "python",
   "name": "python3"
  },
  "language_info": {
   "codemirror_mode": {
    "name": "ipython",
    "version": 3
   },
   "file_extension": ".py",
   "mimetype": "text/x-python",
   "name": "python",
   "nbconvert_exporter": "python",
   "pygments_lexer": "ipython3",
   "version": "3.10.2"
  }
 },
 "nbformat": 4,
 "nbformat_minor": 5
}

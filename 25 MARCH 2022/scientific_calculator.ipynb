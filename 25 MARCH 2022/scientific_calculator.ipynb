{
 "cells": [
  {
   "cell_type": "code",
   "execution_count": null,
   "id": "efa8ab3d",
   "metadata": {},
   "outputs": [
    {
     "name": "stdout",
     "output_type": "stream",
     "text": [
      "WELCOME TO MY CALCULATOR !!!\n",
      "Here is list of choice : \n",
      "1 : ADD\n",
      "2 : SUBTRACTION\n",
      "3 : MULTIPLICATION\n",
      "4 : DIVISION\n",
      "Enter the number of your choice : 3\n",
      "Enter the first number to multiply : 20\n",
      "Enter the second number to multiply : 3\n",
      "MULTIPLICATIONS is :  60\n",
      "Enter the number of your choice : 4\n",
      "Enter the first number to divide : 100\n",
      "Enter the second number to divide : 5\n",
      "DIVISION IS :  20\n"
     ]
    }
   ],
   "source": [
    "import math \n",
    "\n",
    "class Calculator:\n",
    "        \n",
    "    def addition(self,num1,num2):\n",
    "        answer = num1 + num2\n",
    "        print(\"SUM is : \", answer)\n",
    "    \n",
    "    def substraction(self,num1,num2):\n",
    "        answer = num1 - num2\n",
    "        print(\"DIFFERENCE is : \", answer)\n",
    "    \n",
    "    def multiplication(self,num1,num2):\n",
    "        answer = num1 * num2\n",
    "        print(\"MULTIPLICATIONS is : \", answer)\n",
    "    \n",
    "    def division(self,num1,num2):\n",
    "        answer = num1 // num2\n",
    "        print(\"DIVISION IS : \", answer)\n",
    "        \n",
    "    def sinrad(self,num):\n",
    "        answer = math.sin(num)\n",
    "        print('Sine {} = {}', format(num,answer))\n",
    "        \n",
    "        \n",
    "    \n",
    "    \n",
    "calc = Calculator()\n",
    "\n",
    "print('WELCOME TO MY CALCULATOR !!!')\n",
    "print('Here is list of choice : ')\n",
    "print('1 : ADD')\n",
    "print('2 : SUBTRACTION')\n",
    "print('3 : MULTIPLICATION')\n",
    "print('4 : DIVISION')\n",
    "\n",
    "choice = \"\"\n",
    "\n",
    "while True:\n",
    "    try:\n",
    "        choice = int(input('Enter the number of your choice : '))\n",
    "    except:\n",
    "        print('Enter the valid number : ')\n",
    "        \n",
    "    if choice == 1:\n",
    "        n1 = int(input('Enter the first number to add : '))\n",
    "        n2 = int(input('Enter the second number to add : '))\n",
    "        calc.addition(n1,n2)\n",
    "        \n",
    "    elif choice == 2:\n",
    "        n1 = int(input('Enter the first number to subtract : '))\n",
    "        n2 = int(input('Enter the second number to subtract : '))\n",
    "        calc.substraction(n1,n2)\n",
    "        \n",
    "    elif choice == 3:\n",
    "        n1 = int(input('Enter the first number to multiply : '))\n",
    "        n2 = int(input('Enter the second number to multiply : '))\n",
    "        calc.multiplication(n1,n2)\n",
    "        \n",
    "    elif choice == 4:\n",
    "        n1 = int(input('Enter the first number to divide : '))\n",
    "        n2 = int(input('Enter the second number to divide : '))\n",
    "        calc.division(n1,n2)\n",
    "        \n",
    "    elif choice == 5:\n",
    "        "
   ]
  },
  {
   "cell_type": "code",
   "execution_count": null,
   "id": "a04e8dd3",
   "metadata": {},
   "outputs": [],
   "source": []
  },
  {
   "cell_type": "code",
   "execution_count": null,
   "id": "1fc875f3",
   "metadata": {},
   "outputs": [],
   "source": []
  }
 ],
 "metadata": {
  "kernelspec": {
   "display_name": "Python 3 (ipykernel)",
   "language": "python",
   "name": "python3"
  },
  "language_info": {
   "codemirror_mode": {
    "name": "ipython",
    "version": 3
   },
   "file_extension": ".py",
   "mimetype": "text/x-python",
   "name": "python",
   "nbconvert_exporter": "python",
   "pygments_lexer": "ipython3",
   "version": "3.10.3"
  }
 },
 "nbformat": 4,
 "nbformat_minor": 5
}

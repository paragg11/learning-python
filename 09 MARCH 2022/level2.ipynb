{
 "cells": [
  {
   "cell_type": "code",
   "execution_count": 14,
   "id": "eebfd11c",
   "metadata": {},
   "outputs": [],
   "source": [
    "#Return True if array contains a 3 next to 3 somewhere\n",
    "\n",
    "def has_33(num):\n",
    "    for i in range(0,len(num)-1):                             #TILL LAST INDEX\n",
    "                  if num[i] == 3 and num[i+1] == 3:           #COMPARING TWO NXT TO INDEXES\n",
    "                    return True\n",
    "    return False"
   ]
  },
  {
   "cell_type": "code",
   "execution_count": 15,
   "id": "81202a11",
   "metadata": {},
   "outputs": [
    {
     "data": {
      "text/plain": [
       "True"
      ]
     },
     "execution_count": 15,
     "metadata": {},
     "output_type": "execute_result"
    }
   ],
   "source": [
    "has_33([1,3,3,1])"
   ]
  },
  {
   "cell_type": "code",
   "execution_count": 16,
   "id": "eaca2ec3",
   "metadata": {},
   "outputs": [
    {
     "data": {
      "text/plain": [
       "False"
      ]
     },
     "execution_count": 16,
     "metadata": {},
     "output_type": "execute_result"
    }
   ],
   "source": [
    "has_33([1,2,3,5,3])"
   ]
  },
  {
   "cell_type": "code",
   "execution_count": 19,
   "id": "d2e04e29",
   "metadata": {},
   "outputs": [],
   "source": [
    "#Given a string, return a string where for every character in the original there are three characters\n",
    "\n",
    "def char_33(text):\n",
    "    result = ''\n",
    "    \n",
    "    for char in text:\n",
    "        result += char*3        # char+char+char\n",
    "    return result\n",
    "        "
   ]
  },
  {
   "cell_type": "code",
   "execution_count": 20,
   "id": "a44c4d3e",
   "metadata": {},
   "outputs": [
    {
     "data": {
      "text/plain": [
       "'hhheeellllllooo'"
      ]
     },
     "execution_count": 20,
     "metadata": {},
     "output_type": "execute_result"
    }
   ],
   "source": [
    "char_33('hello')"
   ]
  },
  {
   "cell_type": "code",
   "execution_count": 21,
   "id": "bcfd2097",
   "metadata": {},
   "outputs": [
    {
     "data": {
      "text/plain": [
       "'PPPAAARRRAAAGGG'"
      ]
     },
     "execution_count": 21,
     "metadata": {},
     "output_type": "execute_result"
    }
   ],
   "source": [
    "char_33('PARAG')"
   ]
  },
  {
   "cell_type": "code",
   "execution_count": 4,
   "id": "b408bd8b",
   "metadata": {},
   "outputs": [],
   "source": [
    "#Given a 3 integers between 1 and 11, if the sum is less than or equal to 21, return their sum. If their sum exceeds 21 and \n",
    "#there's 11,reduce the sum by 10. Finally if the sum exceeds 21 then return BUST.\n",
    "\n",
    "def adjust_nos(a,b,c):\n",
    "    if sum([a,b,c])<=21:                          #SUM IS LESS THAN OR EQUAL TO 21\n",
    "        return sum([a,b,c])\n",
    "    elif 11 in [a,b,c] and sum([a,b,c]) <=31 :     #SUM EXCEEDS 21 OR THERE'S 11 REDUCE BY 10\n",
    "        return sum([a,b,c])- 10\n",
    "    else:\n",
    "        return 'BUST'                            #SUM EXCEEDS 21"
   ]
  },
  {
   "cell_type": "code",
   "execution_count": 5,
   "id": "42e450da",
   "metadata": {},
   "outputs": [
    {
     "data": {
      "text/plain": [
       "13"
      ]
     },
     "execution_count": 5,
     "metadata": {},
     "output_type": "execute_result"
    }
   ],
   "source": [
    "adjust_nos(4,3,6)"
   ]
  },
  {
   "cell_type": "code",
   "execution_count": 6,
   "id": "0a933eab",
   "metadata": {},
   "outputs": [
    {
     "data": {
      "text/plain": [
       "'BUST'"
      ]
     },
     "execution_count": 6,
     "metadata": {},
     "output_type": "execute_result"
    }
   ],
   "source": [
    "adjust_nos(10,11,13)"
   ]
  },
  {
   "cell_type": "code",
   "execution_count": 9,
   "id": "f6138fc7",
   "metadata": {},
   "outputs": [
    {
     "data": {
      "text/plain": [
       "12"
      ]
     },
     "execution_count": 9,
     "metadata": {},
     "output_type": "execute_result"
    }
   ],
   "source": [
    "adjust_nos(0,11,11)"
   ]
  },
  {
   "cell_type": "code",
   "execution_count": 25,
   "id": "98374012",
   "metadata": {},
   "outputs": [],
   "source": [
    "#Return the sum of arrays, except ignore section of nos starting with a 6 and extending to next 9. Return 0 for no nos.\n",
    "\n",
    "def sumofnos(arr):\n",
    "    total = 0\n",
    "    add = True \n",
    "    \n",
    "    for i in arr:                \n",
    "        while add:\n",
    "            if i != 6:                         #when not keep adding 6\n",
    "                total += i\n",
    "                break\n",
    "            else:\n",
    "                add = False \n",
    "        while not add:                         #Till 9 comes dont add\n",
    "            if i != 9:\n",
    "                break\n",
    "            else:\n",
    "                add = True\n",
    "                break\n",
    "    return total \n",
    "\n",
    "                "
   ]
  },
  {
   "cell_type": "code",
   "execution_count": 26,
   "id": "46324a20",
   "metadata": {},
   "outputs": [
    {
     "data": {
      "text/plain": [
       "8"
      ]
     },
     "execution_count": 26,
     "metadata": {},
     "output_type": "execute_result"
    }
   ],
   "source": [
    "sumofnos([1,3,4])"
   ]
  },
  {
   "cell_type": "code",
   "execution_count": 27,
   "id": "4d17f93f",
   "metadata": {},
   "outputs": [
    {
     "data": {
      "text/plain": [
       "13"
      ]
     },
     "execution_count": 27,
     "metadata": {},
     "output_type": "execute_result"
    }
   ],
   "source": [
    "sumofnos([1,3,4,5,6,7,9])"
   ]
  },
  {
   "cell_type": "code",
   "execution_count": null,
   "id": "15850245",
   "metadata": {},
   "outputs": [],
   "source": []
  }
 ],
 "metadata": {
  "kernelspec": {
   "display_name": "Python 3 (ipykernel)",
   "language": "python",
   "name": "python3"
  },
  "language_info": {
   "codemirror_mode": {
    "name": "ipython",
    "version": 3
   },
   "file_extension": ".py",
   "mimetype": "text/x-python",
   "name": "python",
   "nbconvert_exporter": "python",
   "pygments_lexer": "ipython3",
   "version": "3.10.2"
  }
 },
 "nbformat": 4,
 "nbformat_minor": 5
}

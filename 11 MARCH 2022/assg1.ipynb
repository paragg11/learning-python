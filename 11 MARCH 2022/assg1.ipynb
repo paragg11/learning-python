{
 "cells": [
  {
   "cell_type": "code",
   "execution_count": 72,
   "id": "8340796a",
   "metadata": {},
   "outputs": [],
   "source": [
    "#Function to print the board\n",
    "\n",
    "def ttt_board(board):\n",
    "    print(''+board[1]+'|'+board[2]+'|'+board[3])\n",
    "    print('------')\n",
    "    print(''+board[4]+'|'+board[5]+'|'+board[6])\n",
    "    print('------')\n",
    "    print(''+board[7]+'|'+board[8]+'|'+board[9])\n",
    "    print('------')\n",
    "    "
   ]
  },
  {
   "cell_type": "code",
   "execution_count": 73,
   "id": "614d769d",
   "metadata": {},
   "outputs": [],
   "source": [
    "#testing board\n",
    "\n",
    "#board = ['#','X','X','X','X','X','X','X','X','X']"
   ]
  },
  {
   "cell_type": "code",
   "execution_count": 74,
   "id": "4a40257f",
   "metadata": {},
   "outputs": [],
   "source": [
    "#ttt_board(board)"
   ]
  },
  {
   "cell_type": "code",
   "execution_count": 112,
   "id": "81bf3fcb",
   "metadata": {},
   "outputs": [],
   "source": [
    "#Function to get players input\n",
    "\n",
    "def ttt_player_input():\n",
    "    global marker \n",
    "\n",
    "    while(marker != 'X' or marker != 'O'):\n",
    "            marker = input('Player 1 want to be X or O: ').upper()\n",
    "            \n",
    "            if marker == 'X':       \n",
    "                return ('X','O')\n",
    "            else:\n",
    "                return ('O','X')\n",
    "    #else:\n",
    "       # return"
   ]
  },
  {
   "cell_type": "code",
   "execution_count": 114,
   "id": "09538108",
   "metadata": {},
   "outputs": [
    {
     "name": "stdout",
     "output_type": "stream",
     "text": [
      "Player 1 want to be X or O: x\n"
     ]
    }
   ],
   "source": [
    "#Testing to check players input\n",
    "#marker = ''\n",
    "ttt_player_input()\n",
    "pass\n"
   ]
  },
  {
   "cell_type": "code",
   "execution_count": 115,
   "id": "436fa365",
   "metadata": {},
   "outputs": [],
   "source": [
    "#Function to get inputs on board\n",
    "\n",
    "def ttt_board_inputs(board,marker,position):\n",
    "    board[position] = marker "
   ]
  },
  {
   "cell_type": "code",
   "execution_count": 116,
   "id": "7057f07c",
   "metadata": {},
   "outputs": [
    {
     "name": "stdout",
     "output_type": "stream",
     "text": [
      " | |O\n",
      "------\n",
      " | | \n",
      "------\n",
      " | | \n",
      "------\n"
     ]
    }
   ],
   "source": [
    "#Testing to get inputs on board\n",
    "\n",
    "ttt_board_inputs(board,'O',3)\n",
    "ttt_board(board)"
   ]
  },
  {
   "cell_type": "code",
   "execution_count": 117,
   "id": "4f5e606e",
   "metadata": {},
   "outputs": [],
   "source": [
    " #Function to check the game winner \n",
    "    \n",
    "def ttt_check_winner(board,maker):\n",
    "    return ((board[1]==board[2]==board[3]) or                 #horizontal\n",
    "           (board[4]==board[5]==board[6]) or\n",
    "           (board[7]==board[8]==board[9]) or \n",
    "           (board[1]==board[4]==board[7]) or                  #vertical\n",
    "           (board[2]==board[5]==board[8]) or\n",
    "           (board[3]==board[6]==board[9]) or\n",
    "            (board[1]==board[5]==board[9]) or                 #diagonal\n",
    "            (board[3]==board[5]==board[7]))\n",
    "    "
   ]
  },
  {
   "cell_type": "code",
   "execution_count": 118,
   "id": "86db4630",
   "metadata": {},
   "outputs": [
    {
     "data": {
      "text/plain": [
       "True"
      ]
     },
     "execution_count": 118,
     "metadata": {},
     "output_type": "execute_result"
    }
   ],
   "source": [
    "#Testing\n",
    "ttt_check_winner(board,'X')"
   ]
  },
  {
   "cell_type": "code",
   "execution_count": 119,
   "id": "630c3de0",
   "metadata": {},
   "outputs": [],
   "source": [
    "#Function returning boolean indicating whether space available.\n",
    "\n",
    "def ttt_check_space(board,position):\n",
    "    \n",
    "    return board[position] == ''\n",
    "    "
   ]
  },
  {
   "cell_type": "code",
   "execution_count": 120,
   "id": "e2fda34f",
   "metadata": {},
   "outputs": [],
   "source": [
    "def ttt_full_board_check(board):\n",
    "    for i in range(1,10):\n",
    "        if ttt_check_space(board,i):\n",
    "            return False\n",
    "    return True"
   ]
  },
  {
   "cell_type": "code",
   "execution_count": 129,
   "id": "8c66e532",
   "metadata": {},
   "outputs": [],
   "source": [
    "def ttt_player_position():\n",
    "   # global position\n",
    "    \n",
    "    while ttf_check_space(board,position):\n",
    "        position = int(input('Choose your positions:'))\n",
    "    \n",
    "    return position\n",
    "    "
   ]
  },
  {
   "cell_type": "code",
   "execution_count": 130,
   "id": "069b3f9b",
   "metadata": {},
   "outputs": [],
   "source": [
    "#Function to Ask Player to replay game\n",
    "\n",
    "def replay():\n",
    "    \n",
    "    return input('Do you want to play again? Enter Yes or No: ').lower().startswith('y')\n"
   ]
  },
  {
   "cell_type": "code",
   "execution_count": 131,
   "id": "78c706ee",
   "metadata": {},
   "outputs": [
    {
     "name": "stdout",
     "output_type": "stream",
     "text": [
      "Welcome to Tic Tac Toe!\n",
      "Player 1 want to be X or O: O\n",
      "Are you ready to play? Enter Yes or No: Yes\n",
      " | | \n",
      "------\n",
      " | | \n",
      "------\n",
      " | | \n",
      "------\n"
     ]
    },
    {
     "ename": "NameError",
     "evalue": "name 'ttf_check_space' is not defined",
     "output_type": "error",
     "traceback": [
      "\u001b[1;31m---------------------------------------------------------------------------\u001b[0m",
      "\u001b[1;31mNameError\u001b[0m                                 Traceback (most recent call last)",
      "Input \u001b[1;32mIn [131]\u001b[0m, in \u001b[0;36m<cell line: 3>\u001b[1;34m()\u001b[0m\n\u001b[0;32m     18\u001b[0m \u001b[38;5;28;01mif\u001b[39;00m turn \u001b[38;5;241m==\u001b[39m \u001b[38;5;124m'\u001b[39m\u001b[38;5;124mPlayer 1\u001b[39m\u001b[38;5;124m'\u001b[39m:\n\u001b[0;32m     19\u001b[0m  \u001b[38;5;66;03m#   print(\"Abu\")\u001b[39;00m\n\u001b[0;32m     20\u001b[0m     ttt_board(board)\n\u001b[1;32m---> 21\u001b[0m     \u001b[43mttt_player_position\u001b[49m\u001b[43m(\u001b[49m\u001b[43m)\u001b[49m\n\u001b[0;32m     22\u001b[0m     ttt_board_inputs(theBoard, player1_marker, position)\n\u001b[0;32m     23\u001b[0m     \u001b[38;5;28;01mif\u001b[39;00m ttt_check_winner(board, player1_marker):\n",
      "Input \u001b[1;32mIn [129]\u001b[0m, in \u001b[0;36mttt_player_position\u001b[1;34m()\u001b[0m\n\u001b[0;32m      1\u001b[0m \u001b[38;5;28;01mdef\u001b[39;00m \u001b[38;5;21mttt_player_position\u001b[39m():\n\u001b[0;32m      2\u001b[0m    \u001b[38;5;66;03m# global position\u001b[39;00m\n\u001b[1;32m----> 4\u001b[0m     \u001b[38;5;28;01mwhile\u001b[39;00m \u001b[43mttf_check_space\u001b[49m(board,position):\n\u001b[0;32m      5\u001b[0m         position \u001b[38;5;241m=\u001b[39m \u001b[38;5;28mint\u001b[39m(\u001b[38;5;28minput\u001b[39m(\u001b[38;5;124m'\u001b[39m\u001b[38;5;124mChoose your positions:\u001b[39m\u001b[38;5;124m'\u001b[39m))\n\u001b[0;32m      7\u001b[0m     \u001b[38;5;28;01mreturn\u001b[39;00m position\n",
      "\u001b[1;31mNameError\u001b[0m: name 'ttf_check_space' is not defined"
     ]
    }
   ],
   "source": [
    "print('Welcome to Tic Tac Toe!')\n",
    "\n",
    "while True:\n",
    "\n",
    "    board = [' '] * 10\n",
    "   # print(board)\n",
    "    player1_marker, player2_marker = ttt_player_input()\n",
    "\n",
    "    play_game = input('Are you ready to play? Enter Yes or No: ')\n",
    "\n",
    "    if play_game.lower()[0] == 'y':\n",
    "        game_on = True\n",
    "    else:\n",
    "        game_on = False\n",
    "\n",
    "    #turn = 'Player 1'\n",
    "    while game_on:\n",
    "        if turn == 'Player 1':\n",
    "         #   print(\"Abu\")\n",
    "            ttt_board(board)\n",
    "            ttt_player_position()\n",
    "            ttt_board_inputs(theBoard, player1_marker, position)\n",
    "            if ttt_check_winner(board, player1_marker):\n",
    "                ttt_board(board)\n",
    "                print('Congratulations! You have won the game!')\n",
    "                game_on = False\n",
    "            else:\n",
    "                if ttt_full_board_check(board):\n",
    "                    ttt_board(board)\n",
    "                    print('The game is a draw!')\n",
    "                    break\n",
    "           # turn = 'Player 2'\n",
    "        else:\n",
    "            print(\"Abu2\")\n",
    "            # Player2's turn.\n",
    "\n",
    "            ttt_board(board)\n",
    "            ttt_player_position()\n",
    "            ttt_board_inputs(theBoard, player2_marker, position)\n",
    "\n",
    "            if ttt_check_winner(board, player2_marker):\n",
    "                ttt_board(board)\n",
    "                print('Player 2 has won!')\n",
    "                game_on = False\n",
    "            else:\n",
    "                if ttt_full_board_check(board):\n",
    "                    ttt_board(board)\n",
    "                    print('The game is a draw!')\n",
    "                    break\n",
    "                \n",
    "            turn = 'Player 1'\n",
    "        \n",
    "\n",
    "        #if not replay():\n",
    "            #break\n"
   ]
  },
  {
   "cell_type": "code",
   "execution_count": null,
   "id": "3715c3e8",
   "metadata": {},
   "outputs": [],
   "source": []
  }
 ],
 "metadata": {
  "kernelspec": {
   "display_name": "Python 3 (ipykernel)",
   "language": "python",
   "name": "python3"
  },
  "language_info": {
   "codemirror_mode": {
    "name": "ipython",
    "version": 3
   },
   "file_extension": ".py",
   "mimetype": "text/x-python",
   "name": "python",
   "nbconvert_exporter": "python",
   "pygments_lexer": "ipython3",
   "version": "3.10.2"
  }
 },
 "nbformat": 4,
 "nbformat_minor": 5
}

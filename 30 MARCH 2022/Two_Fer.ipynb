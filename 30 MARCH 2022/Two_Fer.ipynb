{
 "cells": [
  {
   "cell_type": "code",
   "execution_count": null,
   "id": "2e0272d2",
   "metadata": {},
   "outputs": [],
   "source": [
    "\"\"\"\n",
    "Instructions\n",
    "Two-fer or 2-fer is short for two for one. One for you and one for me.\n",
    "\n",
    "Given a name, return a string with the message:\n",
    "\n",
    "One for name, one for me.\n",
    "Where \"name\" is the given name.\n",
    "\n",
    "However, if the name is missing, return the string:\n",
    "\n",
    "One for you, one for me.\n",
    "Here are some examples:\n",
    "\n",
    "Name\tString to return\n",
    "Alice\tOne for Alice, one for me.\n",
    "Bob\tOne for Bob, one for me.\n",
    "One for you, one for me.\n",
    "Zaphod\tOne for Zaphod, one for me.\n",
    "\"\"\"\n",
    "\n",
    "SOLUTION :\n",
    "    \n",
    "def two_fer(name = 'you'):\n",
    "    return f'One for {name}, one for me.'"
   ]
  }
 ],
 "metadata": {
  "kernelspec": {
   "display_name": "Python 3 (ipykernel)",
   "language": "python",
   "name": "python3"
  },
  "language_info": {
   "codemirror_mode": {
    "name": "ipython",
    "version": 3
   },
   "file_extension": ".py",
   "mimetype": "text/x-python",
   "name": "python",
   "nbconvert_exporter": "python",
   "pygments_lexer": "ipython3",
   "version": "3.10.3"
  }
 },
 "nbformat": 4,
 "nbformat_minor": 5
}

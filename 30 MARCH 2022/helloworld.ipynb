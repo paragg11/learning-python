{
 "cells": [
  {
   "cell_type": "code",
   "execution_count": null,
   "id": "a2c35401",
   "metadata": {},
   "outputs": [],
   "source": [
    "\"\"\"\n",
    "Instructions\n",
    "The classical introductory exercise. Just say \"Hello, World!\".\n",
    "\n",
    "\"Hello, World!\" is the traditional first program for beginning programming in a new language or environment.\n",
    "\n",
    "The objectives are simple:\n",
    "\n",
    "Modify the provided code so that it produces the string \"Hello, World!\".\n",
    "Run the test suite and make sure that it succeeds.\n",
    "Submit your solution and check it at the website.\n",
    "If everything goes well, you will be ready to fetch your first real exercise.\n",
    "\"\"\"\n",
    "\n",
    "def hello():\n",
    "    return 'Hello, World!'\n"
   ]
  }
 ],
 "metadata": {
  "kernelspec": {
   "display_name": "Python 3 (ipykernel)",
   "language": "python",
   "name": "python3"
  },
  "language_info": {
   "codemirror_mode": {
    "name": "ipython",
    "version": 3
   },
   "file_extension": ".py",
   "mimetype": "text/x-python",
   "name": "python",
   "nbconvert_exporter": "python",
   "pygments_lexer": "ipython3",
   "version": "3.10.3"
  }
 },
 "nbformat": 4,
 "nbformat_minor": 5
}
